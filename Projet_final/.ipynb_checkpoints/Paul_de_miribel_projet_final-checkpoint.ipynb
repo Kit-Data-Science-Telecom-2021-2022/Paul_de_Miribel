{
 "cells": [
  {
   "cell_type": "markdown",
   "id": "8d85264e",
   "metadata": {},
   "source": [
    "# Projet final"
   ]
  },
  {
   "cell_type": "code",
   "execution_count": 1,
   "id": "92837ce5",
   "metadata": {},
   "outputs": [],
   "source": [
    "import requests\n",
    "import re\n",
    "from bs4 import BeautifulSoup\n",
    "import pandas as pd\n",
    "from openpyxl import load_workbook\n",
    "import datetime\n",
    "import time"
   ]
  },
  {
   "cell_type": "code",
   "execution_count": 2,
   "id": "b06cef04",
   "metadata": {},
   "outputs": [],
   "source": [
    "import xlwings\n",
    "\n",
    "def xlsx_broken(file):\n",
    "    excel_app = xlwings.App(visible=False)\n",
    "    excel_book = excel_app.books.open(file)\n",
    "    excel_book.save()\n",
    "    excel_book.close()\n",
    "    excel_app.quit()\n",
    "    return"
   ]
  },
  {
   "cell_type": "code",
   "execution_count": 3,
   "id": "807b855c",
   "metadata": {},
   "outputs": [],
   "source": [
    "def DMS(a):\n",
    "    x = round(int(a[0])+int(a[1])*1/60+int(a[2])*1/3600,4)\n",
    "    return x"
   ]
  },
  {
   "cell_type": "markdown",
   "id": "fe1bb507",
   "metadata": {},
   "source": [
    "## Acquisition et chargement des données (3 points)"
   ]
  },
  {
   "cell_type": "code",
   "execution_count": 4,
   "id": "b6257b6b",
   "metadata": {},
   "outputs": [],
   "source": [
    "url = 'https://www.vendeeglobe.org/fr/classement/20201109_110000'\n",
    "r = requests.get(url)\n",
    "content = r.content.decode('UTF-8')\n",
    "soup = BeautifulSoup(content)"
   ]
  },
  {
   "cell_type": "code",
   "execution_count": 5,
   "id": "493209de",
   "metadata": {},
   "outputs": [],
   "source": [
    "dates = soup.find('select').text\n",
    "dates = dates.replace('-', '')\n",
    "dates = dates.replace(':', '')\n",
    "dates = re.findall('\\d+', dates)\n",
    "years, hours = dates[::2], dates[1::2]"
   ]
  },
  {
   "cell_type": "code",
   "execution_count": 6,
   "id": "ca647880",
   "metadata": {},
   "outputs": [],
   "source": [
    "df = pd.DataFrame()\n",
    "df['years'] = str(years)\n",
    "df['hours'] = str(hours)\n",
    "df.sort_values(['years', 'hours'])\n",
    "df['links'] = 'https://www.vendeeglobe.org/download-race-data/vendeeglobe_'+df['years']+'_'+df['hours']+'.xlsx'"
   ]
  },
  {
   "cell_type": "code",
   "execution_count": null,
   "id": "392cbe0c",
   "metadata": {},
   "outputs": [],
   "source": [
    "# Code utilisé pour downloader l'ensemble des classements du Vendée Globe 2021\n",
    "\n",
    "#for i in range(len(df)):\n",
    "#    filename = 'vendeeglobe_'+df['years'][i]+'_'+df['hours'][i]+'.xlsx'\n",
    "#    url = df['links'][i]\n",
    "#    r = requests.get(url)\n",
    "#    open(filename, 'wb').write(r.content)\n",
    "#    file = 'vendeeglobe_20201109_110000.xlsx'\n",
    "#    xlsx_broken(filename)"
   ]
  },
  {
   "cell_type": "code",
   "execution_count": 7,
   "id": "0ec4c2f6",
   "metadata": {},
   "outputs": [],
   "source": [
    "df = pd.read_excel('/Users/pauldm/Documents/TELECOM_Paris/Cours/INFMDI721_Kit Big Data/Projet_final/excels/20201108_140000.xlsx',\n",
    "                   index_col = 0, header = 0, skipfooter = 4, skiprows = 4 )\n",
    "\n",
    "df['Date'] = '20201108' + ' ' + '140000'\n",
    "df.dropna().head(2)\n",
    "df = df.set_axis(['Rank', 'Nationality', 'Skipper',\n",
    "                  'Hour fr', 'Latitude', 'Longitude',\n",
    "                  'Cap30', 'Speed30', 'VMG30', 'Distance30',\n",
    "                  'CapL', 'SpeedL', 'VMGL', 'DistanceL',\n",
    "                  'Cap24h', 'Speed24h', 'VMG24h', 'Distance24h',\n",
    "                  'DTF', 'DTL', 'Timestamp'], axis=1)"
   ]
  },
  {
   "cell_type": "code",
   "execution_count": 238,
   "id": "3756eb88",
   "metadata": {},
   "outputs": [],
   "source": [
    "#dic = {'Rank' : int, 'Nationality': str, 'Skipper': str,\n",
    "#                  'Hour fr': str, 'Latitude': str, 'Longitude': str,\n",
    "#                  'Cap30', 'Speed30', 'VMG30', 'Distance30',\n",
    "#                  'CapL', 'SpeedL', 'VMGL', 'DistanceL',\n",
    "#                  'Cap24h', 'Speed24h', 'VMG24h', 'Distance24h',\n",
    "#                  'DTF', 'DTL', 'Timestamp'}"
   ]
  },
  {
   "cell_type": "code",
   "execution_count": 239,
   "id": "261a53b7",
   "metadata": {},
   "outputs": [],
   "source": [
    "df = df.astype(str)"
   ]
  },
  {
   "cell_type": "code",
   "execution_count": 240,
   "id": "3d042f6e",
   "metadata": {},
   "outputs": [],
   "source": [
    "df['Sail'] = df['Nationality'].apply(lambda x: x.split()[-1])\n",
    "df['Nationality'] = df['Nationality'].apply(lambda x: x.split()[0])\n",
    "df['Crew'] = df['Skipper'].apply(lambda x: x.split('\\n')[-1])\n",
    "df['Skipper'] = df['Skipper'].apply(lambda x: x.split('\\n')[0])\n",
    "df['Hour fr'] = df['Hour fr'].apply(lambda x: x.split()[0])\n",
    "\n",
    "df['Speed30'] = df['Speed30'].apply(lambda x: x.split()[0])\n",
    "df['Speed24h'] = df['Speed24h'].apply(lambda x: x.split()[0])\n",
    "df['SpeedL'] = df['SpeedL'].apply(lambda x: x.split()[0])\n",
    "\n",
    "df['VMG30'] = df['VMG30'].apply(lambda x: x.split()[0])\n",
    "df['VMGL'] = df['VMGL'].apply(lambda x: x.split()[0])\n",
    "df['VMG24h'] = df['VMG24h'].apply(lambda x: x.split()[0])\n",
    "\n",
    "df['Distance30'] = df['Distance30'].apply(lambda x: x.split()[0])\n",
    "df['DistanceL'] = df['DistanceL'].apply(lambda x: x.split()[0])\n",
    "df['Distance24h'] = df['Distance24h'].apply(lambda x: x.split()[0])\n",
    "\n",
    "df['DTF'] = df['DTF'].apply(lambda x: x.split()[0])\n",
    "df['DTL'] = df['DTL'].apply(lambda x: x.split()[0])\n",
    "\n",
    "df['Cap30'] = df['Cap30'].apply(lambda x: re.findall('\\d+', x))\n",
    "df['CapL'] = df['CapL'].apply(lambda x: re.findall('\\d+', x))\n",
    "df['Cap24h'] = df['Cap24h'].apply(lambda x: re.findall('\\d+', x))\n",
    "\n",
    "df['Latitude']= df['Latitude'].apply(lambda x: re.findall('\\d+', x))"
   ]
  },
  {
   "cell_type": "code",
   "execution_count": 241,
   "id": "9aeff760",
   "metadata": {},
   "outputs": [
    {
     "data": {
      "text/html": [
       "<div>\n",
       "<style scoped>\n",
       "    .dataframe tbody tr th:only-of-type {\n",
       "        vertical-align: middle;\n",
       "    }\n",
       "\n",
       "    .dataframe tbody tr th {\n",
       "        vertical-align: top;\n",
       "    }\n",
       "\n",
       "    .dataframe thead th {\n",
       "        text-align: right;\n",
       "    }\n",
       "</style>\n",
       "<table border=\"1\" class=\"dataframe\">\n",
       "  <thead>\n",
       "    <tr style=\"text-align: right;\">\n",
       "      <th></th>\n",
       "      <th>Rank</th>\n",
       "      <th>Nationality</th>\n",
       "      <th>Skipper</th>\n",
       "      <th>Hour fr</th>\n",
       "      <th>Latitude</th>\n",
       "      <th>Longitude</th>\n",
       "      <th>Cap30</th>\n",
       "      <th>Speed30</th>\n",
       "      <th>VMG30</th>\n",
       "      <th>Distance30</th>\n",
       "      <th>...</th>\n",
       "      <th>DistanceL</th>\n",
       "      <th>Cap24h</th>\n",
       "      <th>Speed24h</th>\n",
       "      <th>VMG24h</th>\n",
       "      <th>Distance24h</th>\n",
       "      <th>DTF</th>\n",
       "      <th>DTL</th>\n",
       "      <th>Timestamp</th>\n",
       "      <th>Sail</th>\n",
       "      <th>Crew</th>\n",
       "    </tr>\n",
       "  </thead>\n",
       "  <tbody>\n",
       "    <tr>\n",
       "      <th>NaN</th>\n",
       "      <td>1</td>\n",
       "      <td>FRA</td>\n",
       "      <td>Louis Burton</td>\n",
       "      <td>15:30</td>\n",
       "      <td>[46, 24, 46]</td>\n",
       "      <td>01°50.48'W</td>\n",
       "      <td>[241]</td>\n",
       "      <td>17.7</td>\n",
       "      <td>17.5</td>\n",
       "      <td>0.3</td>\n",
       "      <td>...</td>\n",
       "      <td>2788.0</td>\n",
       "      <td>[201]</td>\n",
       "      <td>0.3</td>\n",
       "      <td>0.3</td>\n",
       "      <td>6.1</td>\n",
       "      <td>24293.9</td>\n",
       "      <td>0.0</td>\n",
       "      <td>20201108 140000</td>\n",
       "      <td>18</td>\n",
       "      <td>Bureau Vallée 2</td>\n",
       "    </tr>\n",
       "    <tr>\n",
       "      <th>NaN</th>\n",
       "      <td>2</td>\n",
       "      <td>MON</td>\n",
       "      <td>Boris Herrmann</td>\n",
       "      <td>15:31</td>\n",
       "      <td>[46, 24, 34]</td>\n",
       "      <td>01°49.82'W</td>\n",
       "      <td>[241]</td>\n",
       "      <td>11.1</td>\n",
       "      <td>10.9</td>\n",
       "      <td>0.4</td>\n",
       "      <td>...</td>\n",
       "      <td>2787.9</td>\n",
       "      <td>[196]</td>\n",
       "      <td>0.3</td>\n",
       "      <td>0.2</td>\n",
       "      <td>6.0</td>\n",
       "      <td>24294.2</td>\n",
       "      <td>0.4</td>\n",
       "      <td>20201108 140000</td>\n",
       "      <td>10</td>\n",
       "      <td>Seaexplorer - Yacht Club De Monaco</td>\n",
       "    </tr>\n",
       "    <tr>\n",
       "      <th>NaN</th>\n",
       "      <td>3</td>\n",
       "      <td>FRA</td>\n",
       "      <td>Jérémie Beyou</td>\n",
       "      <td>15:30</td>\n",
       "      <td>[46, 24, 91]</td>\n",
       "      <td>01°49.99'W</td>\n",
       "      <td>[244]</td>\n",
       "      <td>15.5</td>\n",
       "      <td>15.5</td>\n",
       "      <td>0.5</td>\n",
       "      <td>...</td>\n",
       "      <td>2788.5</td>\n",
       "      <td>[199]</td>\n",
       "      <td>0.2</td>\n",
       "      <td>0.2</td>\n",
       "      <td>5.5</td>\n",
       "      <td>24294.3</td>\n",
       "      <td>0.5</td>\n",
       "      <td>20201108 140000</td>\n",
       "      <td>8</td>\n",
       "      <td>Charal</td>\n",
       "    </tr>\n",
       "  </tbody>\n",
       "</table>\n",
       "<p>3 rows × 23 columns</p>\n",
       "</div>"
      ],
      "text/plain": [
       "    Rank Nationality         Skipper Hour fr      Latitude   Longitude  Cap30  \\\n",
       "NaN    1         FRA    Louis Burton   15:30  [46, 24, 46]  01°50.48'W  [241]   \n",
       "NaN    2         MON  Boris Herrmann   15:31  [46, 24, 34]  01°49.82'W  [241]   \n",
       "NaN    3         FRA   Jérémie Beyou   15:30  [46, 24, 91]  01°49.99'W  [244]   \n",
       "\n",
       "    Speed30 VMG30 Distance30  ... DistanceL Cap24h Speed24h VMG24h  \\\n",
       "NaN    17.7  17.5        0.3  ...    2788.0  [201]      0.3    0.3   \n",
       "NaN    11.1  10.9        0.4  ...    2787.9  [196]      0.3    0.2   \n",
       "NaN    15.5  15.5        0.5  ...    2788.5  [199]      0.2    0.2   \n",
       "\n",
       "    Distance24h      DTF  DTL        Timestamp Sail  \\\n",
       "NaN         6.1  24293.9  0.0  20201108 140000   18   \n",
       "NaN         6.0  24294.2  0.4  20201108 140000   10   \n",
       "NaN         5.5  24294.3  0.5  20201108 140000    8   \n",
       "\n",
       "                                   Crew  \n",
       "NaN                     Bureau Vallée 2  \n",
       "NaN  Seaexplorer - Yacht Club De Monaco  \n",
       "NaN                              Charal  \n",
       "\n",
       "[3 rows x 23 columns]"
      ]
     },
     "execution_count": 241,
     "metadata": {},
     "output_type": "execute_result"
    }
   ],
   "source": [
    "df.head(3)"
   ]
  },
  {
   "cell_type": "code",
   "execution_count": null,
   "id": "547e1969",
   "metadata": {},
   "outputs": [],
   "source": [
    "df['Timestamp'] = df['Timestamp'].apply(lambda x: datetime.datetime.strptime(x, '%Y%m%d %H%M%S'))\n",
    "df.set_index('Timestamp')"
   ]
  }
 ],
 "metadata": {
  "kernelspec": {
   "display_name": "Python 3",
   "language": "python",
   "name": "python3"
  },
  "language_info": {
   "codemirror_mode": {
    "name": "ipython",
    "version": 3
   },
   "file_extension": ".py",
   "mimetype": "text/x-python",
   "name": "python",
   "nbconvert_exporter": "python",
   "pygments_lexer": "ipython3",
   "version": "3.8.8"
  }
 },
 "nbformat": 4,
 "nbformat_minor": 5
}
